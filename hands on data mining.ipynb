{
 "cells": [
  {
   "cell_type": "markdown",
   "metadata": {},
   "source": [
    "本文为跟随datawhale组队学习任务的一次尝试，初次完成一个完整的项目，在各方面经验都不足。若各位朋友指正代码和分析思路中的不成熟之处"
   ]
  },
  {
   "cell_type": "markdown",
   "metadata": {},
   "source": [
    "任务说明：数据集是金融数据（非原始数据，已经处理过了），我们要做的是预测贷款用户是否会逾期。表格中 \"status\" 是结果标签：0表示未逾期，1表示逾期。\n",
    "\n",
    "任务要求：数据切分方式 - 三七分，其中测试集30%，训练集70%，随机种子设置为2018\n",
    "任务1：对数据进行探索和分析。\n",
    "- 数据类型的分析\n",
    "- 无关特征删除\n",
    "- 数据类型转换\n",
    "- 缺失值处理\n",
    "- ……以及你能想到和借鉴的数据分析处理"
   ]
  },
  {
   "cell_type": "markdown",
   "metadata": {},
   "source": [
    "# 数据类型的分析"
   ]
  },
  {
   "cell_type": "code",
   "execution_count": 1,
   "metadata": {},
   "outputs": [],
   "source": [
    "import numpy as np\n",
    "import pandas as pd"
   ]
  },
  {
   "cell_type": "code",
   "execution_count": 2,
   "metadata": {},
   "outputs": [],
   "source": [
    "data = pd.read_csv('data.csv',encoding=\"GBK\")"
   ]
  },
  {
   "cell_type": "code",
   "execution_count": 3,
   "metadata": {},
   "outputs": [
    {
     "data": {
      "text/html": [
       "<div>\n",
       "<style scoped>\n",
       "    .dataframe tbody tr th:only-of-type {\n",
       "        vertical-align: middle;\n",
       "    }\n",
       "\n",
       "    .dataframe tbody tr th {\n",
       "        vertical-align: top;\n",
       "    }\n",
       "\n",
       "    .dataframe thead th {\n",
       "        text-align: right;\n",
       "    }\n",
       "</style>\n",
       "<table border=\"1\" class=\"dataframe\">\n",
       "  <thead>\n",
       "    <tr style=\"text-align: right;\">\n",
       "      <th></th>\n",
       "      <th>Unnamed: 0</th>\n",
       "      <th>custid</th>\n",
       "      <th>trade_no</th>\n",
       "      <th>bank_card_no</th>\n",
       "      <th>low_volume_percent</th>\n",
       "      <th>middle_volume_percent</th>\n",
       "      <th>take_amount_in_later_12_month_highest</th>\n",
       "      <th>trans_amount_increase_rate_lately</th>\n",
       "      <th>trans_activity_month</th>\n",
       "      <th>trans_activity_day</th>\n",
       "      <th>...</th>\n",
       "      <th>loans_max_limit</th>\n",
       "      <th>loans_avg_limit</th>\n",
       "      <th>consfin_credit_limit</th>\n",
       "      <th>consfin_credibility</th>\n",
       "      <th>consfin_org_count_current</th>\n",
       "      <th>consfin_product_count</th>\n",
       "      <th>consfin_max_limit</th>\n",
       "      <th>consfin_avg_limit</th>\n",
       "      <th>latest_query_day</th>\n",
       "      <th>loans_latest_day</th>\n",
       "    </tr>\n",
       "  </thead>\n",
       "  <tbody>\n",
       "    <tr>\n",
       "      <th>0</th>\n",
       "      <td>5</td>\n",
       "      <td>2791858</td>\n",
       "      <td>20180507115231274000000023057383</td>\n",
       "      <td>卡号1</td>\n",
       "      <td>0.01</td>\n",
       "      <td>0.99</td>\n",
       "      <td>0</td>\n",
       "      <td>0.90</td>\n",
       "      <td>0.55</td>\n",
       "      <td>0.313</td>\n",
       "      <td>...</td>\n",
       "      <td>2900.0</td>\n",
       "      <td>1688.0</td>\n",
       "      <td>1200.0</td>\n",
       "      <td>75.0</td>\n",
       "      <td>1.0</td>\n",
       "      <td>2.0</td>\n",
       "      <td>1200.0</td>\n",
       "      <td>1200.0</td>\n",
       "      <td>12.0</td>\n",
       "      <td>18.0</td>\n",
       "    </tr>\n",
       "    <tr>\n",
       "      <th>1</th>\n",
       "      <td>10</td>\n",
       "      <td>534047</td>\n",
       "      <td>20180507121002192000000023073000</td>\n",
       "      <td>卡号1</td>\n",
       "      <td>0.02</td>\n",
       "      <td>0.94</td>\n",
       "      <td>2000</td>\n",
       "      <td>1.28</td>\n",
       "      <td>1.00</td>\n",
       "      <td>0.458</td>\n",
       "      <td>...</td>\n",
       "      <td>3500.0</td>\n",
       "      <td>1758.0</td>\n",
       "      <td>15100.0</td>\n",
       "      <td>80.0</td>\n",
       "      <td>5.0</td>\n",
       "      <td>6.0</td>\n",
       "      <td>22800.0</td>\n",
       "      <td>9360.0</td>\n",
       "      <td>4.0</td>\n",
       "      <td>2.0</td>\n",
       "    </tr>\n",
       "    <tr>\n",
       "      <th>2</th>\n",
       "      <td>12</td>\n",
       "      <td>2849787</td>\n",
       "      <td>20180507125159718000000023114911</td>\n",
       "      <td>卡号1</td>\n",
       "      <td>0.04</td>\n",
       "      <td>0.96</td>\n",
       "      <td>0</td>\n",
       "      <td>1.00</td>\n",
       "      <td>1.00</td>\n",
       "      <td>0.114</td>\n",
       "      <td>...</td>\n",
       "      <td>1600.0</td>\n",
       "      <td>1250.0</td>\n",
       "      <td>4200.0</td>\n",
       "      <td>87.0</td>\n",
       "      <td>1.0</td>\n",
       "      <td>1.0</td>\n",
       "      <td>4200.0</td>\n",
       "      <td>4200.0</td>\n",
       "      <td>2.0</td>\n",
       "      <td>6.0</td>\n",
       "    </tr>\n",
       "    <tr>\n",
       "      <th>3</th>\n",
       "      <td>13</td>\n",
       "      <td>1809708</td>\n",
       "      <td>20180507121358683000000388283484</td>\n",
       "      <td>卡号1</td>\n",
       "      <td>0.00</td>\n",
       "      <td>0.96</td>\n",
       "      <td>2000</td>\n",
       "      <td>0.13</td>\n",
       "      <td>0.57</td>\n",
       "      <td>0.777</td>\n",
       "      <td>...</td>\n",
       "      <td>3200.0</td>\n",
       "      <td>1541.0</td>\n",
       "      <td>16300.0</td>\n",
       "      <td>80.0</td>\n",
       "      <td>5.0</td>\n",
       "      <td>5.0</td>\n",
       "      <td>30000.0</td>\n",
       "      <td>12180.0</td>\n",
       "      <td>2.0</td>\n",
       "      <td>4.0</td>\n",
       "    </tr>\n",
       "    <tr>\n",
       "      <th>4</th>\n",
       "      <td>14</td>\n",
       "      <td>2499829</td>\n",
       "      <td>20180507115448545000000388205844</td>\n",
       "      <td>卡号1</td>\n",
       "      <td>0.01</td>\n",
       "      <td>0.99</td>\n",
       "      <td>0</td>\n",
       "      <td>0.46</td>\n",
       "      <td>1.00</td>\n",
       "      <td>0.175</td>\n",
       "      <td>...</td>\n",
       "      <td>2300.0</td>\n",
       "      <td>1630.0</td>\n",
       "      <td>8300.0</td>\n",
       "      <td>79.0</td>\n",
       "      <td>2.0</td>\n",
       "      <td>2.0</td>\n",
       "      <td>8400.0</td>\n",
       "      <td>8250.0</td>\n",
       "      <td>22.0</td>\n",
       "      <td>120.0</td>\n",
       "    </tr>\n",
       "    <tr>\n",
       "      <th>5</th>\n",
       "      <td>15</td>\n",
       "      <td>518072</td>\n",
       "      <td>20180507121233054000000388275132</td>\n",
       "      <td>卡号1</td>\n",
       "      <td>0.02</td>\n",
       "      <td>0.98</td>\n",
       "      <td>2000</td>\n",
       "      <td>7.59</td>\n",
       "      <td>1.00</td>\n",
       "      <td>0.733</td>\n",
       "      <td>...</td>\n",
       "      <td>5300.0</td>\n",
       "      <td>1941.0</td>\n",
       "      <td>11200.0</td>\n",
       "      <td>80.0</td>\n",
       "      <td>10.0</td>\n",
       "      <td>12.0</td>\n",
       "      <td>20400.0</td>\n",
       "      <td>8130.0</td>\n",
       "      <td>3.0</td>\n",
       "      <td>4.0</td>\n",
       "    </tr>\n",
       "  </tbody>\n",
       "</table>\n",
       "<p>6 rows × 90 columns</p>\n",
       "</div>"
      ],
      "text/plain": [
       "   Unnamed: 0   custid                          trade_no bank_card_no  \\\n",
       "0           5  2791858  20180507115231274000000023057383          卡号1   \n",
       "1          10   534047  20180507121002192000000023073000          卡号1   \n",
       "2          12  2849787  20180507125159718000000023114911          卡号1   \n",
       "3          13  1809708  20180507121358683000000388283484          卡号1   \n",
       "4          14  2499829  20180507115448545000000388205844          卡号1   \n",
       "5          15   518072  20180507121233054000000388275132          卡号1   \n",
       "\n",
       "   low_volume_percent  middle_volume_percent  \\\n",
       "0                0.01                   0.99   \n",
       "1                0.02                   0.94   \n",
       "2                0.04                   0.96   \n",
       "3                0.00                   0.96   \n",
       "4                0.01                   0.99   \n",
       "5                0.02                   0.98   \n",
       "\n",
       "   take_amount_in_later_12_month_highest  trans_amount_increase_rate_lately  \\\n",
       "0                                      0                               0.90   \n",
       "1                                   2000                               1.28   \n",
       "2                                      0                               1.00   \n",
       "3                                   2000                               0.13   \n",
       "4                                      0                               0.46   \n",
       "5                                   2000                               7.59   \n",
       "\n",
       "   trans_activity_month  trans_activity_day  ...  loans_max_limit  \\\n",
       "0                  0.55               0.313  ...           2900.0   \n",
       "1                  1.00               0.458  ...           3500.0   \n",
       "2                  1.00               0.114  ...           1600.0   \n",
       "3                  0.57               0.777  ...           3200.0   \n",
       "4                  1.00               0.175  ...           2300.0   \n",
       "5                  1.00               0.733  ...           5300.0   \n",
       "\n",
       "   loans_avg_limit  consfin_credit_limit  consfin_credibility  \\\n",
       "0           1688.0                1200.0                 75.0   \n",
       "1           1758.0               15100.0                 80.0   \n",
       "2           1250.0                4200.0                 87.0   \n",
       "3           1541.0               16300.0                 80.0   \n",
       "4           1630.0                8300.0                 79.0   \n",
       "5           1941.0               11200.0                 80.0   \n",
       "\n",
       "   consfin_org_count_current  consfin_product_count  consfin_max_limit  \\\n",
       "0                        1.0                    2.0             1200.0   \n",
       "1                        5.0                    6.0            22800.0   \n",
       "2                        1.0                    1.0             4200.0   \n",
       "3                        5.0                    5.0            30000.0   \n",
       "4                        2.0                    2.0             8400.0   \n",
       "5                       10.0                   12.0            20400.0   \n",
       "\n",
       "   consfin_avg_limit  latest_query_day  loans_latest_day  \n",
       "0             1200.0              12.0              18.0  \n",
       "1             9360.0               4.0               2.0  \n",
       "2             4200.0               2.0               6.0  \n",
       "3            12180.0               2.0               4.0  \n",
       "4             8250.0              22.0             120.0  \n",
       "5             8130.0               3.0               4.0  \n",
       "\n",
       "[6 rows x 90 columns]"
      ]
     },
     "execution_count": 3,
     "metadata": {},
     "output_type": "execute_result"
    }
   ],
   "source": [
    "data.head(6)"
   ]
  },
  {
   "cell_type": "code",
   "execution_count": 4,
   "metadata": {},
   "outputs": [
    {
     "name": "stdout",
     "output_type": "stream",
     "text": [
      "<class 'pandas.core.frame.DataFrame'>\n",
      "RangeIndex: 4754 entries, 0 to 4753\n",
      "Data columns (total 90 columns):\n",
      "Unnamed: 0                                    4754 non-null int64\n",
      "custid                                        4754 non-null int64\n",
      "trade_no                                      4754 non-null object\n",
      "bank_card_no                                  4754 non-null object\n",
      "low_volume_percent                            4752 non-null float64\n",
      "middle_volume_percent                         4752 non-null float64\n",
      "take_amount_in_later_12_month_highest         4754 non-null int64\n",
      "trans_amount_increase_rate_lately             4751 non-null float64\n",
      "trans_activity_month                          4752 non-null float64\n",
      "trans_activity_day                            4752 non-null float64\n",
      "transd_mcc                                    4752 non-null float64\n",
      "trans_days_interval_filter                    4746 non-null float64\n",
      "trans_days_interval                           4752 non-null float64\n",
      "regional_mobility                             4752 non-null float64\n",
      "student_feature                               1756 non-null float64\n",
      "repayment_capability                          4754 non-null int64\n",
      "is_high_user                                  4754 non-null int64\n",
      "number_of_trans_from_2011                     4752 non-null float64\n",
      "first_transaction_time                        4752 non-null float64\n",
      "historical_trans_amount                       4754 non-null int64\n",
      "historical_trans_day                          4752 non-null float64\n",
      "rank_trad_1_month                             4752 non-null float64\n",
      "trans_amount_3_month                          4754 non-null int64\n",
      "avg_consume_less_12_valid_month               4752 non-null float64\n",
      "abs                                           4754 non-null int64\n",
      "top_trans_count_last_1_month                  4752 non-null float64\n",
      "avg_price_last_12_month                       4754 non-null int64\n",
      "avg_price_top_last_12_valid_month             4650 non-null float64\n",
      "reg_preference_for_trad                       4752 non-null object\n",
      "trans_top_time_last_1_month                   4746 non-null float64\n",
      "trans_top_time_last_6_month                   4746 non-null float64\n",
      "consume_top_time_last_1_month                 4746 non-null float64\n",
      "consume_top_time_last_6_month                 4746 non-null float64\n",
      "cross_consume_count_last_1_month              4328 non-null float64\n",
      "trans_fail_top_count_enum_last_1_month        4738 non-null float64\n",
      "trans_fail_top_count_enum_last_6_month        4738 non-null float64\n",
      "trans_fail_top_count_enum_last_12_month       4738 non-null float64\n",
      "consume_mini_time_last_1_month                4728 non-null float64\n",
      "max_cumulative_consume_later_1_month          4754 non-null int64\n",
      "max_consume_count_later_6_month               4746 non-null float64\n",
      "railway_consume_count_last_12_month           4742 non-null float64\n",
      "pawns_auctions_trusts_consume_last_1_month    4754 non-null int64\n",
      "pawns_auctions_trusts_consume_last_6_month    4754 non-null int64\n",
      "jewelry_consume_count_last_6_month            4742 non-null float64\n",
      "status                                        4754 non-null int64\n",
      "source                                        4754 non-null object\n",
      "first_transaction_day                         4752 non-null float64\n",
      "trans_day_last_12_month                       4752 non-null float64\n",
      "id_name                                       4478 non-null object\n",
      "apply_score                                   4450 non-null float64\n",
      "apply_credibility                             4450 non-null float64\n",
      "query_org_count                               4450 non-null float64\n",
      "query_finance_count                           4450 non-null float64\n",
      "query_cash_count                              4450 non-null float64\n",
      "query_sum_count                               4450 non-null float64\n",
      "latest_query_time                             4450 non-null object\n",
      "latest_one_month_apply                        4450 non-null float64\n",
      "latest_three_month_apply                      4450 non-null float64\n",
      "latest_six_month_apply                        4450 non-null float64\n",
      "loans_score                                   4457 non-null float64\n",
      "loans_credibility_behavior                    4457 non-null float64\n",
      "loans_count                                   4457 non-null float64\n",
      "loans_settle_count                            4457 non-null float64\n",
      "loans_overdue_count                           4457 non-null float64\n",
      "loans_org_count_behavior                      4457 non-null float64\n",
      "consfin_org_count_behavior                    4457 non-null float64\n",
      "loans_cash_count                              4457 non-null float64\n",
      "latest_one_month_loan                         4457 non-null float64\n",
      "latest_three_month_loan                       4457 non-null float64\n",
      "latest_six_month_loan                         4457 non-null float64\n",
      "history_suc_fee                               4457 non-null float64\n",
      "history_fail_fee                              4457 non-null float64\n",
      "latest_one_month_suc                          4457 non-null float64\n",
      "latest_one_month_fail                         4457 non-null float64\n",
      "loans_long_time                               4457 non-null float64\n",
      "loans_latest_time                             4457 non-null object\n",
      "loans_credit_limit                            4457 non-null float64\n",
      "loans_credibility_limit                       4457 non-null float64\n",
      "loans_org_count_current                       4457 non-null float64\n",
      "loans_product_count                           4457 non-null float64\n",
      "loans_max_limit                               4457 non-null float64\n",
      "loans_avg_limit                               4457 non-null float64\n",
      "consfin_credit_limit                          4457 non-null float64\n",
      "consfin_credibility                           4457 non-null float64\n",
      "consfin_org_count_current                     4457 non-null float64\n",
      "consfin_product_count                         4457 non-null float64\n",
      "consfin_max_limit                             4457 non-null float64\n",
      "consfin_avg_limit                             4457 non-null float64\n",
      "latest_query_day                              4450 non-null float64\n",
      "loans_latest_day                              4457 non-null float64\n",
      "dtypes: float64(70), int64(13), object(7)\n",
      "memory usage: 3.3+ MB\n"
     ]
    }
   ],
   "source": [
    "data.info()"
   ]
  },
  {
   "cell_type": "code",
   "execution_count": 5,
   "metadata": {},
   "outputs": [],
   "source": [
    "def overall(data):\n",
    "    typedic= {} # 类型字典\n",
    "    for name in data.columns:\n",
    "        typedic[str(data[name].dtype)] = typedic.get(str(data[name].dtype),[])+[name]\n",
    "    for key,value in typedic.items():\n",
    "        # print('we have {} columns in type {}'.format(len(value),key))\n",
    "        print('we have {} columns in type {}, they are {}\\\\'.format(len(value),key,value))"
   ]
  },
  {
   "cell_type": "code",
   "execution_count": 6,
   "metadata": {},
   "outputs": [
    {
     "name": "stdout",
     "output_type": "stream",
     "text": [
      "we have 13 columns in type int64, they are ['Unnamed: 0', 'custid', 'take_amount_in_later_12_month_highest', 'repayment_capability', 'is_high_user', 'historical_trans_amount', 'trans_amount_3_month', 'abs', 'avg_price_last_12_month', 'max_cumulative_consume_later_1_month', 'pawns_auctions_trusts_consume_last_1_month', 'pawns_auctions_trusts_consume_last_6_month', 'status']\\\n",
      "we have 7 columns in type object, they are ['trade_no', 'bank_card_no', 'reg_preference_for_trad', 'source', 'id_name', 'latest_query_time', 'loans_latest_time']\\\n",
      "we have 70 columns in type float64, they are ['low_volume_percent', 'middle_volume_percent', 'trans_amount_increase_rate_lately', 'trans_activity_month', 'trans_activity_day', 'transd_mcc', 'trans_days_interval_filter', 'trans_days_interval', 'regional_mobility', 'student_feature', 'number_of_trans_from_2011', 'first_transaction_time', 'historical_trans_day', 'rank_trad_1_month', 'avg_consume_less_12_valid_month', 'top_trans_count_last_1_month', 'avg_price_top_last_12_valid_month', 'trans_top_time_last_1_month', 'trans_top_time_last_6_month', 'consume_top_time_last_1_month', 'consume_top_time_last_6_month', 'cross_consume_count_last_1_month', 'trans_fail_top_count_enum_last_1_month', 'trans_fail_top_count_enum_last_6_month', 'trans_fail_top_count_enum_last_12_month', 'consume_mini_time_last_1_month', 'max_consume_count_later_6_month', 'railway_consume_count_last_12_month', 'jewelry_consume_count_last_6_month', 'first_transaction_day', 'trans_day_last_12_month', 'apply_score', 'apply_credibility', 'query_org_count', 'query_finance_count', 'query_cash_count', 'query_sum_count', 'latest_one_month_apply', 'latest_three_month_apply', 'latest_six_month_apply', 'loans_score', 'loans_credibility_behavior', 'loans_count', 'loans_settle_count', 'loans_overdue_count', 'loans_org_count_behavior', 'consfin_org_count_behavior', 'loans_cash_count', 'latest_one_month_loan', 'latest_three_month_loan', 'latest_six_month_loan', 'history_suc_fee', 'history_fail_fee', 'latest_one_month_suc', 'latest_one_month_fail', 'loans_long_time', 'loans_credit_limit', 'loans_credibility_limit', 'loans_org_count_current', 'loans_product_count', 'loans_max_limit', 'loans_avg_limit', 'consfin_credit_limit', 'consfin_credibility', 'consfin_org_count_current', 'consfin_product_count', 'consfin_max_limit', 'consfin_avg_limit', 'latest_query_day', 'loans_latest_day']\\\n"
     ]
    }
   ],
   "source": [
    "overall(data)"
   ]
  },
  {
   "cell_type": "markdown",
   "metadata": {},
   "source": [
    "有7列是object类型，列名为['trade_no', 'bank_card_no', 'reg_preference_for_trad', 'source', 'id_name', 'latest_query_time', 'loans_latest_time']"
   ]
  },
  {
   "cell_type": "markdown",
   "metadata": {},
   "source": [
    "# 无关特征删除"
   ]
  },
  {
   "cell_type": "markdown",
   "metadata": {},
   "source": [
    "特征删除原则：\n",
    "1. 在这组特征值上取值相同\n",
    "2. 部分无意义数据，如用户姓名、用户编号等"
   ]
  },
  {
   "cell_type": "code",
   "execution_count": 7,
   "metadata": {},
   "outputs": [
    {
     "data": {
      "text/plain": [
       "90"
      ]
     },
     "execution_count": 7,
     "metadata": {},
     "output_type": "execute_result"
    }
   ],
   "source": [
    "len(data.columns)"
   ]
  },
  {
   "cell_type": "code",
   "execution_count": 8,
   "metadata": {},
   "outputs": [],
   "source": [
    "def same_value_delete(data):\n",
    "    for name in data.columns:\n",
    "        if len(data[name].value_counts())==1:\n",
    "            data.drop(name,axis = 1,inplace = True)"
   ]
  },
  {
   "cell_type": "code",
   "execution_count": 9,
   "metadata": {},
   "outputs": [],
   "source": [
    "same_value_delete(data)"
   ]
  },
  {
   "cell_type": "code",
   "execution_count": 10,
   "metadata": {},
   "outputs": [
    {
     "data": {
      "text/plain": [
       "88"
      ]
     },
     "execution_count": 10,
     "metadata": {},
     "output_type": "execute_result"
    }
   ],
   "source": [
    "len(data.columns)"
   ]
  },
  {
   "cell_type": "markdown",
   "metadata": {},
   "source": [
    "删去两列"
   ]
  },
  {
   "cell_type": "markdown",
   "metadata": {},
   "source": [
    "下面观察对数据分析无帮助和无实际意义的数据"
   ]
  },
  {
   "cell_type": "code",
   "execution_count": 11,
   "metadata": {},
   "outputs": [
    {
     "data": {
      "text/plain": [
       "0    20180507115231274000000023057383\n",
       "1    20180507121002192000000023073000\n",
       "2    20180507125159718000000023114911\n",
       "3    20180507121358683000000388283484\n",
       "4    20180507115448545000000388205844\n",
       "Name: trade_no, dtype: object"
      ]
     },
     "execution_count": 11,
     "metadata": {},
     "output_type": "execute_result"
    }
   ],
   "source": [
    "data['trade_no'].head()"
   ]
  },
  {
   "cell_type": "markdown",
   "metadata": {},
   "source": [
    "交易号，与是否逾期无关。其中可能包含了交易时间，这一部分信息包含在表中latest_query_time等列"
   ]
  },
  {
   "cell_type": "code",
   "execution_count": 12,
   "metadata": {},
   "outputs": [
    {
     "data": {
      "text/plain": [
       "0     5\n",
       "1    10\n",
       "2    12\n",
       "3    13\n",
       "4    14\n",
       "Name: Unnamed: 0, dtype: int64"
      ]
     },
     "execution_count": 12,
     "metadata": {},
     "output_type": "execute_result"
    }
   ],
   "source": [
    "data.iloc[:,0].head()"
   ]
  },
  {
   "cell_type": "markdown",
   "metadata": {},
   "source": [
    "第一列数据，由于没有给出数据说明不清楚数据含义。暂时保留"
   ]
  },
  {
   "cell_type": "code",
   "execution_count": 13,
   "metadata": {},
   "outputs": [
    {
     "data": {
      "text/plain": [
       "0    2791858\n",
       "1     534047\n",
       "2    2849787\n",
       "3    1809708\n",
       "4    2499829\n",
       "Name: custid, dtype: int64"
      ]
     },
     "execution_count": 13,
     "metadata": {},
     "output_type": "execute_result"
    }
   ],
   "source": [
    "data['custid'].head()"
   ]
  },
  {
   "cell_type": "markdown",
   "metadata": {},
   "source": [
    "顾客号，同理无意义"
   ]
  },
  {
   "cell_type": "code",
   "execution_count": 14,
   "metadata": {},
   "outputs": [
    {
     "data": {
      "text/plain": [
       "NaN    2998\n",
       "1.0    1754\n",
       "2.0       2\n",
       "Name: student_feature, dtype: int64"
      ]
     },
     "execution_count": 14,
     "metadata": {},
     "output_type": "execute_result"
    }
   ],
   "source": [
    "data['student_feature'].value_counts(dropna=False)"
   ]
  },
  {
   "cell_type": "markdown",
   "metadata": {},
   "source": [
    "学生类型。本列缺失数据较多，缺失率达百分之六十多。考虑到可能与学生的贫困程度相关，在后续将把缺失值填补为“0”类型"
   ]
  },
  {
   "cell_type": "code",
   "execution_count": 15,
   "metadata": {},
   "outputs": [
    {
     "data": {
      "text/plain": [
       "0     蒋红\n",
       "1    崔向朝\n",
       "2    王中云\n",
       "3    何洋洋\n",
       "4     赵洋\n",
       "Name: id_name, dtype: object"
      ]
     },
     "execution_count": 15,
     "metadata": {},
     "output_type": "execute_result"
    }
   ],
   "source": [
    "data['id_name'].head()"
   ]
  },
  {
   "cell_type": "markdown",
   "metadata": {},
   "source": [
    "用户姓名，无意义"
   ]
  },
  {
   "cell_type": "markdown",
   "metadata": {},
   "source": [
    "删去以上无意义的特征："
   ]
  },
  {
   "cell_type": "code",
   "execution_count": 16,
   "metadata": {},
   "outputs": [],
   "source": [
    "data.drop(['trade_no','custid','id_name'],inplace = True,axis = 1)"
   ]
  },
  {
   "cell_type": "code",
   "execution_count": 17,
   "metadata": {},
   "outputs": [
    {
     "data": {
      "text/plain": [
       "85"
      ]
     },
     "execution_count": 17,
     "metadata": {},
     "output_type": "execute_result"
    }
   ],
   "source": [
    "len(data.columns)"
   ]
  },
  {
   "cell_type": "markdown",
   "metadata": {},
   "source": [
    "# 数值类型转换"
   ]
  },
  {
   "cell_type": "code",
   "execution_count": 18,
   "metadata": {},
   "outputs": [
    {
     "name": "stdout",
     "output_type": "stream",
     "text": [
      "we have 12 columns in type int64, they are ['Unnamed: 0', 'take_amount_in_later_12_month_highest', 'repayment_capability', 'is_high_user', 'historical_trans_amount', 'trans_amount_3_month', 'abs', 'avg_price_last_12_month', 'max_cumulative_consume_later_1_month', 'pawns_auctions_trusts_consume_last_1_month', 'pawns_auctions_trusts_consume_last_6_month', 'status']\\\n",
      "we have 70 columns in type float64, they are ['low_volume_percent', 'middle_volume_percent', 'trans_amount_increase_rate_lately', 'trans_activity_month', 'trans_activity_day', 'transd_mcc', 'trans_days_interval_filter', 'trans_days_interval', 'regional_mobility', 'student_feature', 'number_of_trans_from_2011', 'first_transaction_time', 'historical_trans_day', 'rank_trad_1_month', 'avg_consume_less_12_valid_month', 'top_trans_count_last_1_month', 'avg_price_top_last_12_valid_month', 'trans_top_time_last_1_month', 'trans_top_time_last_6_month', 'consume_top_time_last_1_month', 'consume_top_time_last_6_month', 'cross_consume_count_last_1_month', 'trans_fail_top_count_enum_last_1_month', 'trans_fail_top_count_enum_last_6_month', 'trans_fail_top_count_enum_last_12_month', 'consume_mini_time_last_1_month', 'max_consume_count_later_6_month', 'railway_consume_count_last_12_month', 'jewelry_consume_count_last_6_month', 'first_transaction_day', 'trans_day_last_12_month', 'apply_score', 'apply_credibility', 'query_org_count', 'query_finance_count', 'query_cash_count', 'query_sum_count', 'latest_one_month_apply', 'latest_three_month_apply', 'latest_six_month_apply', 'loans_score', 'loans_credibility_behavior', 'loans_count', 'loans_settle_count', 'loans_overdue_count', 'loans_org_count_behavior', 'consfin_org_count_behavior', 'loans_cash_count', 'latest_one_month_loan', 'latest_three_month_loan', 'latest_six_month_loan', 'history_suc_fee', 'history_fail_fee', 'latest_one_month_suc', 'latest_one_month_fail', 'loans_long_time', 'loans_credit_limit', 'loans_credibility_limit', 'loans_org_count_current', 'loans_product_count', 'loans_max_limit', 'loans_avg_limit', 'consfin_credit_limit', 'consfin_credibility', 'consfin_org_count_current', 'consfin_product_count', 'consfin_max_limit', 'consfin_avg_limit', 'latest_query_day', 'loans_latest_day']\\\n",
      "we have 3 columns in type object, they are ['reg_preference_for_trad', 'latest_query_time', 'loans_latest_time']\\\n"
     ]
    }
   ],
   "source": [
    "overall(data)"
   ]
  },
  {
   "cell_type": "markdown",
   "metadata": {},
   "source": [
    "现在仍有三列非数值型数据分别为['reg_preference_for_trad', 'latest_query_time', 'loans_latest_time']"
   ]
  },
  {
   "cell_type": "code",
   "execution_count": 19,
   "metadata": {},
   "outputs": [
    {
     "data": {
      "text/plain": [
       "一线城市    3403\n",
       "三线城市    1064\n",
       "境外       150\n",
       "二线城市     131\n",
       "其他城市       4\n",
       "NaN        2\n",
       "Name: reg_preference_for_trad, dtype: int64"
      ]
     },
     "execution_count": 19,
     "metadata": {},
     "output_type": "execute_result"
    }
   ],
   "source": [
    "# 城市类型\n",
    "data['reg_preference_for_trad'].value_counts(dropna = False)"
   ]
  },
  {
   "cell_type": "markdown",
   "metadata": {},
   "source": [
    "将未知城市类型填充为其它城市"
   ]
  },
  {
   "cell_type": "code",
   "execution_count": 20,
   "metadata": {},
   "outputs": [],
   "source": [
    "data['reg_preference_for_trad'].fillna('其他城市',inplace = True)"
   ]
  },
  {
   "cell_type": "markdown",
   "metadata": {},
   "source": [
    "一线城市、二线、三线、境外、其他分别替换为1、2、3、4、5"
   ]
  },
  {
   "cell_type": "code",
   "execution_count": 21,
   "metadata": {},
   "outputs": [],
   "source": [
    "data['reg_preference_for_trad'].replace({'一线城市':1,'二线城市':2,'三线城市':3,'境外':4,'其他城市':5},inplace = True)"
   ]
  },
  {
   "cell_type": "markdown",
   "metadata": {},
   "source": [
    "data['latest_query_time', 'loans_latest_time']为日期型数据，在这里先保留不改"
   ]
  },
  {
   "cell_type": "markdown",
   "metadata": {},
   "source": [
    "# 缺失值处理"
   ]
  },
  {
   "cell_type": "markdown",
   "metadata": {},
   "source": [
    "首先来查看缺失值"
   ]
  },
  {
   "cell_type": "code",
   "execution_count": 22,
   "metadata": {},
   "outputs": [
    {
     "data": {
      "text/plain": [
       "Unnamed: 0                                 0\n",
       "low_volume_percent                         2\n",
       "middle_volume_percent                      2\n",
       "take_amount_in_later_12_month_highest      0\n",
       "trans_amount_increase_rate_lately          3\n",
       "                                        ... \n",
       "consfin_product_count                    297\n",
       "consfin_max_limit                        297\n",
       "consfin_avg_limit                        297\n",
       "latest_query_day                         304\n",
       "loans_latest_day                         297\n",
       "Length: 85, dtype: int64"
      ]
     },
     "execution_count": 22,
     "metadata": {},
     "output_type": "execute_result"
    }
   ],
   "source": [
    "data.isnull().sum()"
   ]
  },
  {
   "cell_type": "code",
   "execution_count": 23,
   "metadata": {},
   "outputs": [
    {
     "data": {
      "text/plain": [
       "[<matplotlib.lines.Line2D at 0x2125b429940>]"
      ]
     },
     "execution_count": 23,
     "metadata": {},
     "output_type": "execute_result"
    }
   ],
   "source": [
    "import matplotlib.pyplot as plt\n",
    "plt.plot(data.isnull().sum())"
   ]
  },
  {
   "cell_type": "markdown",
   "metadata": {},
   "source": [
    "学生类型处缺失数据较多，将空值填充为“0”型学生"
   ]
  },
  {
   "cell_type": "code",
   "execution_count": 24,
   "metadata": {},
   "outputs": [],
   "source": [
    "data['student_feature'].fillna(0,inplace = True)"
   ]
  },
  {
   "cell_type": "markdown",
   "metadata": {},
   "source": [
    "其它缺失数据均用均值填充，缺失特征数过多的数据直接丢弃"
   ]
  },
  {
   "cell_type": "code",
   "execution_count": 25,
   "metadata": {},
   "outputs": [
    {
     "data": {
      "text/plain": [
       "(4754, 85)"
      ]
     },
     "execution_count": 25,
     "metadata": {},
     "output_type": "execute_result"
    }
   ],
   "source": [
    "data.shape"
   ]
  },
  {
   "cell_type": "code",
   "execution_count": 26,
   "metadata": {},
   "outputs": [],
   "source": [
    "# thresh 的作用是：保留至少有 80 个 非NAN的数据\n",
    "# axis 代表的是对列操作还是对行操作\n",
    "data.dropna(thresh=80,axis = 0,inplace=True)"
   ]
  },
  {
   "cell_type": "code",
   "execution_count": 27,
   "metadata": {},
   "outputs": [],
   "source": [
    "data.fillna(data.mean(),inplace = True)"
   ]
  },
  {
   "cell_type": "code",
   "execution_count": 28,
   "metadata": {},
   "outputs": [
    {
     "data": {
      "text/plain": [
       "Unnamed: 0                               0\n",
       "low_volume_percent                       0\n",
       "middle_volume_percent                    0\n",
       "take_amount_in_later_12_month_highest    0\n",
       "trans_amount_increase_rate_lately        0\n",
       "                                        ..\n",
       "consfin_product_count                    0\n",
       "consfin_max_limit                        0\n",
       "consfin_avg_limit                        0\n",
       "latest_query_day                         0\n",
       "loans_latest_day                         0\n",
       "Length: 85, dtype: int64"
      ]
     },
     "execution_count": 28,
     "metadata": {},
     "output_type": "execute_result"
    }
   ],
   "source": [
    "data.isnull().sum()"
   ]
  },
  {
   "cell_type": "markdown",
   "metadata": {},
   "source": [
    "最后看一下经过以上处理后的数据："
   ]
  },
  {
   "cell_type": "code",
   "execution_count": 29,
   "metadata": {},
   "outputs": [
    {
     "data": {
      "text/html": [
       "<div>\n",
       "<style scoped>\n",
       "    .dataframe tbody tr th:only-of-type {\n",
       "        vertical-align: middle;\n",
       "    }\n",
       "\n",
       "    .dataframe tbody tr th {\n",
       "        vertical-align: top;\n",
       "    }\n",
       "\n",
       "    .dataframe thead th {\n",
       "        text-align: right;\n",
       "    }\n",
       "</style>\n",
       "<table border=\"1\" class=\"dataframe\">\n",
       "  <thead>\n",
       "    <tr style=\"text-align: right;\">\n",
       "      <th></th>\n",
       "      <th>Unnamed: 0</th>\n",
       "      <th>low_volume_percent</th>\n",
       "      <th>middle_volume_percent</th>\n",
       "      <th>take_amount_in_later_12_month_highest</th>\n",
       "      <th>trans_amount_increase_rate_lately</th>\n",
       "      <th>trans_activity_month</th>\n",
       "      <th>trans_activity_day</th>\n",
       "      <th>transd_mcc</th>\n",
       "      <th>trans_days_interval_filter</th>\n",
       "      <th>trans_days_interval</th>\n",
       "      <th>...</th>\n",
       "      <th>loans_max_limit</th>\n",
       "      <th>loans_avg_limit</th>\n",
       "      <th>consfin_credit_limit</th>\n",
       "      <th>consfin_credibility</th>\n",
       "      <th>consfin_org_count_current</th>\n",
       "      <th>consfin_product_count</th>\n",
       "      <th>consfin_max_limit</th>\n",
       "      <th>consfin_avg_limit</th>\n",
       "      <th>latest_query_day</th>\n",
       "      <th>loans_latest_day</th>\n",
       "    </tr>\n",
       "  </thead>\n",
       "  <tbody>\n",
       "    <tr>\n",
       "      <th>count</th>\n",
       "      <td>4422.000000</td>\n",
       "      <td>4422.000000</td>\n",
       "      <td>4422.000000</td>\n",
       "      <td>4422.000000</td>\n",
       "      <td>4422.000000</td>\n",
       "      <td>4422.000000</td>\n",
       "      <td>4422.000000</td>\n",
       "      <td>4422.000000</td>\n",
       "      <td>4422.000000</td>\n",
       "      <td>4422.000000</td>\n",
       "      <td>...</td>\n",
       "      <td>4422.000000</td>\n",
       "      <td>4422.000000</td>\n",
       "      <td>4422.000000</td>\n",
       "      <td>4422.000000</td>\n",
       "      <td>4422.000000</td>\n",
       "      <td>4422.000000</td>\n",
       "      <td>4422.000000</td>\n",
       "      <td>4422.000000</td>\n",
       "      <td>4422.000000</td>\n",
       "      <td>4422.000000</td>\n",
       "    </tr>\n",
       "    <tr>\n",
       "      <th>mean</th>\n",
       "      <td>5990.563772</td>\n",
       "      <td>0.021493</td>\n",
       "      <td>0.902510</td>\n",
       "      <td>1975.203528</td>\n",
       "      <td>14.965855</td>\n",
       "      <td>0.804733</td>\n",
       "      <td>0.369077</td>\n",
       "      <td>17.621891</td>\n",
       "      <td>28.866802</td>\n",
       "      <td>21.542062</td>\n",
       "      <td>...</td>\n",
       "      <td>3399.298960</td>\n",
       "      <td>1823.483039</td>\n",
       "      <td>9194.821348</td>\n",
       "      <td>76.138173</td>\n",
       "      <td>4.755767</td>\n",
       "      <td>5.253731</td>\n",
       "      <td>16194.482135</td>\n",
       "      <td>8016.497512</td>\n",
       "      <td>23.913388</td>\n",
       "      <td>54.875622</td>\n",
       "    </tr>\n",
       "    <tr>\n",
       "      <th>std</th>\n",
       "      <td>3456.082641</td>\n",
       "      <td>0.038204</td>\n",
       "      <td>0.140694</td>\n",
       "      <td>4006.226955</td>\n",
       "      <td>719.529333</td>\n",
       "      <td>0.196672</td>\n",
       "      <td>0.169947</td>\n",
       "      <td>4.440865</td>\n",
       "      <td>22.633197</td>\n",
       "      <td>16.241934</td>\n",
       "      <td>...</td>\n",
       "      <td>1467.777081</td>\n",
       "      <td>579.527631</td>\n",
       "      <td>7301.117578</td>\n",
       "      <td>14.319397</td>\n",
       "      <td>2.970191</td>\n",
       "      <td>3.404606</td>\n",
       "      <td>14248.409042</td>\n",
       "      <td>5662.652516</td>\n",
       "      <td>37.518129</td>\n",
       "      <td>53.341698</td>\n",
       "    </tr>\n",
       "    <tr>\n",
       "      <th>min</th>\n",
       "      <td>5.000000</td>\n",
       "      <td>0.000000</td>\n",
       "      <td>0.000000</td>\n",
       "      <td>0.000000</td>\n",
       "      <td>0.000000</td>\n",
       "      <td>0.120000</td>\n",
       "      <td>0.033000</td>\n",
       "      <td>3.000000</td>\n",
       "      <td>0.000000</td>\n",
       "      <td>4.000000</td>\n",
       "      <td>...</td>\n",
       "      <td>0.000000</td>\n",
       "      <td>0.000000</td>\n",
       "      <td>0.000000</td>\n",
       "      <td>0.000000</td>\n",
       "      <td>0.000000</td>\n",
       "      <td>0.000000</td>\n",
       "      <td>0.000000</td>\n",
       "      <td>0.000000</td>\n",
       "      <td>-2.000000</td>\n",
       "      <td>-2.000000</td>\n",
       "    </tr>\n",
       "    <tr>\n",
       "      <th>25%</th>\n",
       "      <td>3066.500000</td>\n",
       "      <td>0.010000</td>\n",
       "      <td>0.880000</td>\n",
       "      <td>0.000000</td>\n",
       "      <td>0.610000</td>\n",
       "      <td>0.670000</td>\n",
       "      <td>0.236000</td>\n",
       "      <td>15.000000</td>\n",
       "      <td>16.000000</td>\n",
       "      <td>12.000000</td>\n",
       "      <td>...</td>\n",
       "      <td>2300.000000</td>\n",
       "      <td>1540.000000</td>\n",
       "      <td>4800.000000</td>\n",
       "      <td>77.000000</td>\n",
       "      <td>2.000000</td>\n",
       "      <td>3.000000</td>\n",
       "      <td>7800.000000</td>\n",
       "      <td>4750.000000</td>\n",
       "      <td>5.000000</td>\n",
       "      <td>10.000000</td>\n",
       "    </tr>\n",
       "    <tr>\n",
       "      <th>50%</th>\n",
       "      <td>5984.000000</td>\n",
       "      <td>0.010000</td>\n",
       "      <td>0.960000</td>\n",
       "      <td>600.000000</td>\n",
       "      <td>0.960000</td>\n",
       "      <td>0.860000</td>\n",
       "      <td>0.354000</td>\n",
       "      <td>18.000000</td>\n",
       "      <td>23.000000</td>\n",
       "      <td>17.000000</td>\n",
       "      <td>...</td>\n",
       "      <td>3200.000000</td>\n",
       "      <td>1811.000000</td>\n",
       "      <td>7700.000000</td>\n",
       "      <td>79.000000</td>\n",
       "      <td>4.000000</td>\n",
       "      <td>5.000000</td>\n",
       "      <td>13800.000000</td>\n",
       "      <td>7050.000000</td>\n",
       "      <td>14.000000</td>\n",
       "      <td>36.000000</td>\n",
       "    </tr>\n",
       "    <tr>\n",
       "      <th>75%</th>\n",
       "      <td>8985.500000</td>\n",
       "      <td>0.020000</td>\n",
       "      <td>0.990000</td>\n",
       "      <td>2000.000000</td>\n",
       "      <td>1.580000</td>\n",
       "      <td>1.000000</td>\n",
       "      <td>0.480000</td>\n",
       "      <td>20.000000</td>\n",
       "      <td>32.000000</td>\n",
       "      <td>26.000000</td>\n",
       "      <td>...</td>\n",
       "      <td>4300.000000</td>\n",
       "      <td>2100.000000</td>\n",
       "      <td>11700.000000</td>\n",
       "      <td>80.000000</td>\n",
       "      <td>7.000000</td>\n",
       "      <td>7.000000</td>\n",
       "      <td>20400.000000</td>\n",
       "      <td>10000.000000</td>\n",
       "      <td>24.000000</td>\n",
       "      <td>90.000000</td>\n",
       "    </tr>\n",
       "    <tr>\n",
       "      <th>max</th>\n",
       "      <td>11992.000000</td>\n",
       "      <td>1.000000</td>\n",
       "      <td>1.000000</td>\n",
       "      <td>68000.000000</td>\n",
       "      <td>47596.740000</td>\n",
       "      <td>1.000000</td>\n",
       "      <td>0.941000</td>\n",
       "      <td>42.000000</td>\n",
       "      <td>285.000000</td>\n",
       "      <td>234.000000</td>\n",
       "      <td>...</td>\n",
       "      <td>10000.000000</td>\n",
       "      <td>6900.000000</td>\n",
       "      <td>87100.000000</td>\n",
       "      <td>87.000000</td>\n",
       "      <td>18.000000</td>\n",
       "      <td>20.000000</td>\n",
       "      <td>266400.000000</td>\n",
       "      <td>82800.000000</td>\n",
       "      <td>360.000000</td>\n",
       "      <td>323.000000</td>\n",
       "    </tr>\n",
       "  </tbody>\n",
       "</table>\n",
       "<p>8 rows × 83 columns</p>\n",
       "</div>"
      ],
      "text/plain": [
       "         Unnamed: 0  low_volume_percent  middle_volume_percent  \\\n",
       "count   4422.000000         4422.000000            4422.000000   \n",
       "mean    5990.563772            0.021493               0.902510   \n",
       "std     3456.082641            0.038204               0.140694   \n",
       "min        5.000000            0.000000               0.000000   \n",
       "25%     3066.500000            0.010000               0.880000   \n",
       "50%     5984.000000            0.010000               0.960000   \n",
       "75%     8985.500000            0.020000               0.990000   \n",
       "max    11992.000000            1.000000               1.000000   \n",
       "\n",
       "       take_amount_in_later_12_month_highest  \\\n",
       "count                            4422.000000   \n",
       "mean                             1975.203528   \n",
       "std                              4006.226955   \n",
       "min                                 0.000000   \n",
       "25%                                 0.000000   \n",
       "50%                               600.000000   \n",
       "75%                              2000.000000   \n",
       "max                             68000.000000   \n",
       "\n",
       "       trans_amount_increase_rate_lately  trans_activity_month  \\\n",
       "count                        4422.000000           4422.000000   \n",
       "mean                           14.965855              0.804733   \n",
       "std                           719.529333              0.196672   \n",
       "min                             0.000000              0.120000   \n",
       "25%                             0.610000              0.670000   \n",
       "50%                             0.960000              0.860000   \n",
       "75%                             1.580000              1.000000   \n",
       "max                         47596.740000              1.000000   \n",
       "\n",
       "       trans_activity_day   transd_mcc  trans_days_interval_filter  \\\n",
       "count         4422.000000  4422.000000                 4422.000000   \n",
       "mean             0.369077    17.621891                   28.866802   \n",
       "std              0.169947     4.440865                   22.633197   \n",
       "min              0.033000     3.000000                    0.000000   \n",
       "25%              0.236000    15.000000                   16.000000   \n",
       "50%              0.354000    18.000000                   23.000000   \n",
       "75%              0.480000    20.000000                   32.000000   \n",
       "max              0.941000    42.000000                  285.000000   \n",
       "\n",
       "       trans_days_interval  ...  loans_max_limit  loans_avg_limit  \\\n",
       "count          4422.000000  ...      4422.000000      4422.000000   \n",
       "mean             21.542062  ...      3399.298960      1823.483039   \n",
       "std              16.241934  ...      1467.777081       579.527631   \n",
       "min               4.000000  ...         0.000000         0.000000   \n",
       "25%              12.000000  ...      2300.000000      1540.000000   \n",
       "50%              17.000000  ...      3200.000000      1811.000000   \n",
       "75%              26.000000  ...      4300.000000      2100.000000   \n",
       "max             234.000000  ...     10000.000000      6900.000000   \n",
       "\n",
       "       consfin_credit_limit  consfin_credibility  consfin_org_count_current  \\\n",
       "count           4422.000000          4422.000000                4422.000000   \n",
       "mean            9194.821348            76.138173                   4.755767   \n",
       "std             7301.117578            14.319397                   2.970191   \n",
       "min                0.000000             0.000000                   0.000000   \n",
       "25%             4800.000000            77.000000                   2.000000   \n",
       "50%             7700.000000            79.000000                   4.000000   \n",
       "75%            11700.000000            80.000000                   7.000000   \n",
       "max            87100.000000            87.000000                  18.000000   \n",
       "\n",
       "       consfin_product_count  consfin_max_limit  consfin_avg_limit  \\\n",
       "count            4422.000000        4422.000000        4422.000000   \n",
       "mean                5.253731       16194.482135        8016.497512   \n",
       "std                 3.404606       14248.409042        5662.652516   \n",
       "min                 0.000000           0.000000           0.000000   \n",
       "25%                 3.000000        7800.000000        4750.000000   \n",
       "50%                 5.000000       13800.000000        7050.000000   \n",
       "75%                 7.000000       20400.000000       10000.000000   \n",
       "max                20.000000      266400.000000       82800.000000   \n",
       "\n",
       "       latest_query_day  loans_latest_day  \n",
       "count       4422.000000       4422.000000  \n",
       "mean          23.913388         54.875622  \n",
       "std           37.518129         53.341698  \n",
       "min           -2.000000         -2.000000  \n",
       "25%            5.000000         10.000000  \n",
       "50%           14.000000         36.000000  \n",
       "75%           24.000000         90.000000  \n",
       "max          360.000000        323.000000  \n",
       "\n",
       "[8 rows x 83 columns]"
      ]
     },
     "execution_count": 29,
     "metadata": {},
     "output_type": "execute_result"
    }
   ],
   "source": [
    "data.describe()"
   ]
  },
  {
   "cell_type": "markdown",
   "metadata": {},
   "source": [
    "# 数据集切分"
   ]
  },
  {
   "cell_type": "code",
   "execution_count": 32,
   "metadata": {},
   "outputs": [],
   "source": [
    "from sklearn.model_selection import train_test_split\n",
    "train_data,test_data = train_test_split(data,test_size = 0.3,random_state = 2018)\n",
    "train_data.to_csv('train.csv')\n",
    "test_data.to_csv('test.csv')\n",
    "x_test = test_data.iloc[:,:-1]\n",
    "x_test.to_csv('x_test.csv',index=False)"
   ]
  },
  {
   "cell_type": "markdown",
   "metadata": {},
   "source": [
    "提出问题：\n",
    "- 缺失率大于多少时应当抛弃该特征？\n",
    "- 怎样判断离群值以及是否需要删除离群值或怎样替代离群值？（比如一些手动录入过程中出错产生的离群值等）\n",
    "- 这里城市的分类显然不适合用独热码编码了，那么如果在其它时候使用data.preprocessing中的LabelBinarizer后重新编码的文本特征又怎样应用到预测中？"
   ]
  },
  {
   "cell_type": "code",
   "execution_count": null,
   "metadata": {},
   "outputs": [],
   "source": []
  }
 ],
 "metadata": {
  "kernelspec": {
   "display_name": "Python 3",
   "language": "python",
   "name": "python3"
  },
  "language_info": {
   "codemirror_mode": {
    "name": "ipython",
    "version": 3
   },
   "file_extension": ".py",
   "mimetype": "text/x-python",
   "name": "python",
   "nbconvert_exporter": "python",
   "pygments_lexer": "ipython3",
   "version": "3.7.3"
  },
  "toc": {
   "base_numbering": 1,
   "nav_menu": {},
   "number_sections": true,
   "sideBar": true,
   "skip_h1_title": false,
   "title_cell": "Table of Contents",
   "title_sidebar": "Contents",
   "toc_cell": false,
   "toc_position": {},
   "toc_section_display": true,
   "toc_window_display": false
  }
 },
 "nbformat": 4,
 "nbformat_minor": 2
}
